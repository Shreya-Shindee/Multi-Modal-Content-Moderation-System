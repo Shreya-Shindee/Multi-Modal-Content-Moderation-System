{
  "cells": [
    {
      "cell_type": "markdown",
      "metadata": {},
      "source": [
        "# Multi-Modal Content Moderation System Demo\n",
        "\n",
        "This notebook demonstrates the key features of the content moderation system."
      ]
    },
    {
      "cell_type": "code",
      "execution_count": null,
      "metadata": {},
      "outputs": [],
      "source": [
        "# Import required libraries\n",
        "import sys\n",
        "sys.path.append('..')\n",
        "\n",
        "import torch\n",
        "import pandas as pd\n",
        "from preprocessing.text_processor import TextProcessor\n",
        "from preprocessing.image_processor import ImageProcessor\n",
        "from models.multimodal_model import MultiModalClassifier\n",
        "\n",
        "print(\"Libraries imported successfully!\")"
      ]
    },
    {
      "cell_type": "code",
      "execution_count": null,
      "metadata": {},
      "outputs": [],
      "source": [
        "# Initialize processors and model\n",
        "text_processor = TextProcessor()\n",
        "image_processor = ImageProcessor()\n",
        "model = MultiModalClassifier(num_classes=5)\n",
        "\n",
        "print(\"Model and processors initialized!\")"
      ]
    },
    {
      "cell_type": "code",
      "execution_count": null,
      "metadata": {},
      "outputs": [],
      "source": [
        "# Test text processing\n",
        "sample_text = \"This is a sample text for content moderation.\"\n",
        "processed = text_processor.clean_text(sample_text)\n",
        "tokens = text_processor.tokenize_batch([sample_text])\n",
        "\n",
        "print(f\"Original: {sample_text}\")\n",
        "print(f\"Processed: {processed}\")\n",
        "print(f\"Tokens shape: {tokens['input_ids'].shape}\")"
      ]
    }
  ],
  "metadata": {
    "kernelspec": {
      "display_name": ".venv",
      "language": "python",
      "name": "python3"
    },
    "language_info": {
      "name": "python",
      "version": "3.10.9"
    }
  },
  "nbformat": 4,
  "nbformat_minor": 4
}
